{
  "nbformat": 4,
  "nbformat_minor": 0,
  "metadata": {
    "colab": {
      "provenance": [],
      "authorship_tag": "ABX9TyMicMaSdKODVRf5jKPQ8BhN",
      "include_colab_link": true
    },
    "kernelspec": {
      "name": "python3",
      "display_name": "Python 3"
    },
    "language_info": {
      "name": "python"
    }
  },
  "cells": [
    {
      "cell_type": "markdown",
      "metadata": {
        "id": "view-in-github",
        "colab_type": "text"
      },
      "source": [
        "<a href=\"https://colab.research.google.com/github/URC-LCDN/repo_example_test/blob/main/Untitled0.ipynb\" target=\"_parent\"><img src=\"https://colab.research.google.com/assets/colab-badge.svg\" alt=\"Open In Colab\"/></a>"
      ]
    },
    {
      "cell_type": "code",
      "execution_count": null,
      "metadata": {
        "id": "2QZadWnFRnDi",
        "colab": {
          "base_uri": "https://localhost:8080/"
        },
        "outputId": "8bf6505d-861a-4a83-d76c-78a5a5e364a2"
      },
      "outputs": [
        {
          "output_type": "stream",
          "name": "stdout",
          "text": [
            "<class 'int'>\n",
            "<class 'str'>\n"
          ]
        },
        {
          "output_type": "execute_result",
          "data": {
            "text/plain": [
              "(5+12j)"
            ]
          },
          "metadata": {},
          "execution_count": 1
        }
      ],
      "source": [
        "#Practica 1\n",
        "\n",
        "\n",
        "\n",
        "cadena = str(3)  # cadena tendrá el valor: '3'\n",
        "entero = int(3)  # entero tendrá el valor:  3\n",
        "real = float(3)  # real tendrá el valor: 3.\n",
        "\n",
        "\n",
        "numero = 5\n",
        "nombre= \"Rosario\"\n",
        "print(type(numero))\n",
        "print(type(nombre))\n",
        "\n",
        "x = int(1)   # x será 1\n",
        "y = int(2.8) # y será 2\n",
        "z = int(\"3\") # z será 3\n",
        "\n",
        "(3+2j)*(3+2j)\n",
        "\n",
        "\n",
        "\n",
        "\n"
      ]
    },
    {
      "cell_type": "code",
      "source": [
        "(3+2j)/(3+2j)\n",
        "\n"
      ],
      "metadata": {
        "colab": {
          "base_uri": "https://localhost:8080/"
        },
        "id": "QuT1A6h4VsNi",
        "outputId": "1c8df950-b52c-416e-9dc9-f6d65108a130"
      },
      "execution_count": null,
      "outputs": [
        {
          "output_type": "execute_result",
          "data": {
            "text/plain": [
              "(1+0j)"
            ]
          },
          "metadata": {},
          "execution_count": 3
        }
      ]
    },
    {
      "cell_type": "code",
      "source": [
        "cadena = \"hola\"\n",
        "cadena = str(3)\n",
        "print(cadena)"
      ],
      "metadata": {
        "colab": {
          "base_uri": "https://localhost:8080/"
        },
        "id": "4V6dZzu5WBgb",
        "outputId": "7639682d-3ec3-4cd0-9a8f-0c76c13fdce6"
      },
      "execution_count": null,
      "outputs": [
        {
          "output_type": "stream",
          "name": "stdout",
          "text": [
            "3\n"
          ]
        }
      ]
    },
    {
      "cell_type": "code",
      "source": [
        "cadena = 12j\n",
        "print(type(cadena))"
      ],
      "metadata": {
        "colab": {
          "base_uri": "https://localhost:8080/"
        },
        "id": "SyG4m2O0Wyzb",
        "outputId": "87090102-7903-4568-8cb6-9358daa4a4c4"
      },
      "execution_count": null,
      "outputs": [
        {
          "output_type": "stream",
          "name": "stdout",
          "text": [
            "<class 'complex'>\n"
          ]
        }
      ]
    },
    {
      "cell_type": "code",
      "source": [
        "nombre = \"Victor\"\n",
        "texto = \"Mi nombre es {}\"\n",
        "print(texto.format(nombre))"
      ],
      "metadata": {
        "colab": {
          "base_uri": "https://localhost:8080/"
        },
        "id": "0lT-Y3HLX1gk",
        "outputId": "0142d5eb-bea2-4301-f953-2992f11cfba5"
      },
      "execution_count": null,
      "outputs": [
        {
          "output_type": "stream",
          "name": "stdout",
          "text": [
            "Mi nombre es Victor\n"
          ]
        }
      ]
    },
    {
      "cell_type": "code",
      "source": [
        "nombre = \"Victor\"\n",
        "apellido = \"Cruz\"\n",
        "texto = \"Mi nombre es {} y mi apellido es {}\"\n",
        "print(texto.format(nombre,apellido))\n"
      ],
      "metadata": {
        "colab": {
          "base_uri": "https://localhost:8080/"
        },
        "id": "dE7YJJ8kYPPs",
        "outputId": "b7154593-e436-4434-adbc-5a7e3d75fd9e"
      },
      "execution_count": null,
      "outputs": [
        {
          "output_type": "stream",
          "name": "stdout",
          "text": [
            "Mi nombre es Victor y mi apellido es Cruz\n"
          ]
        }
      ]
    }
  ]
}