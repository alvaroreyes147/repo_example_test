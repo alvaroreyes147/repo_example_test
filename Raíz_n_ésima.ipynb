{
  "nbformat": 4,
  "nbformat_minor": 0,
  "metadata": {
    "colab": {
      "provenance": [],
      "authorship_tag": "ABX9TyO88yuL6cDZAWBdn3haINBz",
      "include_colab_link": true
    },
    "kernelspec": {
      "name": "python3",
      "display_name": "Python 3"
    },
    "language_info": {
      "name": "python"
    }
  },
  "cells": [
    {
      "cell_type": "markdown",
      "metadata": {
        "id": "view-in-github",
        "colab_type": "text"
      },
      "source": [
        "<a href=\"https://colab.research.google.com/github/alvaroreyes147/repo_example_test/blob/main/Ra%C3%ADz_n_%C3%A9sima.ipynb\" target=\"_parent\"><img src=\"https://colab.research.google.com/assets/colab-badge.svg\" alt=\"Open In Colab\"/></a>"
      ]
    },
    {
      "cell_type": "code",
      "execution_count": null,
      "metadata": {
        "id": "top5Z2AO3ZZA"
      },
      "outputs": [],
      "source": [
        "#Estimación de la raíz n-ésima de un número\n",
        "#Alvaro\n",
        "\n",
        "print(f\"Se calculará la raíz n-ésima de un número con margen de error de {10**(-14)}. Es importante recordar que los números negativos no tienen raíz par en variable real.\\nSi el usuario introduce un radicando negativo y un radical par, entonces el sistema arrojará un resultado erróneo.\")\n",
        "\n",
        "a = float(input(\"Por favor introduce el radicando: \"))\n",
        "r = int(input(\"Por favor introduce el radical: \"))\n",
        "centinela = 1\n",
        "x = (a-abs(a))/2\n",
        "y = (a+abs(a))/2\n",
        "while (abs(x - y) > 10**(-14)):\n",
        "  print(f\"Paso {centinela}\")\n",
        "  print((y + x)/2)\n",
        "  if (((y + x)/2)**r - a > 0):\n",
        "    y = (y + x)/2\n",
        "  if  (((y + x)/2)**r - a < 0):\n",
        "    x = (y + x)/2\n",
        "\n",
        "  centinela += 1\n",
        "print(f\"Paso {centinela}\")\n",
        "print((y + x)/2)\n",
        "print(f\"{chr(27)}[{1};{30};{43}m         El resultado obtenido después de {centinela} iteraciones es {(y + x)/2}         {chr(27)}[0m\",end= \"\")"
      ]
    }
  ]
}