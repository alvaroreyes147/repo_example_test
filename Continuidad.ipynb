{
  "nbformat": 4,
  "nbformat_minor": 0,
  "metadata": {
    "colab": {
      "provenance": [],
      "authorship_tag": "ABX9TyP3fX3hHpHdnUC9KvfqkA7S",
      "include_colab_link": true
    },
    "kernelspec": {
      "name": "python3",
      "display_name": "Python 3"
    },
    "language_info": {
      "name": "python"
    }
  },
  "cells": [
    {
      "cell_type": "markdown",
      "metadata": {
        "id": "view-in-github",
        "colab_type": "text"
      },
      "source": [
        "<a href=\"https://colab.research.google.com/github/URC-LCDN/repo_example_test/blob/main/Continuidad.ipynb\" target=\"_parent\"><img src=\"https://colab.research.google.com/assets/colab-badge.svg\" alt=\"Open In Colab\"/></a>"
      ]
    },
    {
      "cell_type": "markdown",
      "source": [
        "CONTINUIDAD DE FUNCIONES\n"
      ],
      "metadata": {
        "id": "HbwlvdC79cPM"
      }
    },
    {
      "cell_type": "code",
      "execution_count": 20,
      "metadata": {
        "id": "Dza36CYx2r35"
      },
      "outputs": [],
      "source": [
        "import sympy as sp\n",
        "import numpy as np\n"
      ]
    },
    {
      "cell_type": "code",
      "source": [
        "#definición de una funcíon definida a trozos\n",
        "\n",
        "def efe(x):\n",
        "  if x==1:\n",
        "    return 1\n",
        "  elif x==2:\n",
        "    return 1\n",
        "  else:\n",
        "    return 0\n",
        "\n",
        "\n",
        "\n",
        "\n"
      ],
      "metadata": {
        "id": "bTztK_R64Eks"
      },
      "execution_count": 9,
      "outputs": []
    },
    {
      "cell_type": "code",
      "source": [
        "#Definición de continuidad\n",
        "\n",
        "def escontinua(f,t):\n",
        "  x=sp.symbols(\"x\")\n",
        "  if  sp.limit(f(x),x,t)==f(t):\n",
        "    return print(\"La función es continua en \",t)\n",
        "  else:\n",
        "    return print(\"La función no es continua en \",t)\n",
        "\n",
        "  escontinua(efe,1)\n",
        "\n",
        "\n",
        "\n",
        "\n"
      ],
      "metadata": {
        "id": "W18yxUir2toY"
      },
      "execution_count": 20,
      "outputs": []
    },
    {
      "cell_type": "code",
      "source": [
        "#Ejemplo1\n",
        "\n",
        "def ge(x):\n",
        "  return x*x\n",
        "\n",
        "escontinua(ge,-1)\n"
      ],
      "metadata": {
        "colab": {
          "base_uri": "https://localhost:8080/"
        },
        "id": "78IkjdGtDiw8",
        "outputId": "f51b1e45-3b0d-4f86-a357-800e56eb3571"
      },
      "execution_count": 43,
      "outputs": [
        {
          "output_type": "stream",
          "name": "stdout",
          "text": [
            "La función es continua en  -1\n"
          ]
        }
      ]
    },
    {
      "cell_type": "code",
      "source": [
        "#Ejemplo2\n",
        "\n",
        "def te(x):\n",
        "  if x==0:\n",
        "    return \"no está definido\"\n",
        "  else:\n",
        "    return 1/x\n",
        "\n",
        "escontinua(te,0)\n"
      ],
      "metadata": {
        "colab": {
          "base_uri": "https://localhost:8080/"
        },
        "id": "xvQHq6QDKwqy",
        "outputId": "1005864a-262e-4456-b7bf-89e2747928ae"
      },
      "execution_count": 50,
      "outputs": [
        {
          "output_type": "stream",
          "name": "stdout",
          "text": [
            "La función no es continua en  0\n"
          ]
        }
      ]
    },
    {
      "cell_type": "code",
      "source": [
        "#Ejemplo2\n",
        "def exposeno(x):\n",
        "  return sp.exp(sp.sin(x))"
      ],
      "metadata": {
        "id": "OYOlXLzI4pTC"
      },
      "execution_count": 36,
      "outputs": []
    },
    {
      "cell_type": "code",
      "source": [
        "escontinua(exposeno,sp.pi/2)"
      ],
      "metadata": {
        "colab": {
          "base_uri": "https://localhost:8080/"
        },
        "id": "y3yJt70a4Va2",
        "outputId": "153ac22b-e0d8-45e2-ab1c-f6c1728ba6f8"
      },
      "execution_count": 37,
      "outputs": [
        {
          "output_type": "stream",
          "name": "stdout",
          "text": [
            "La función es continua en  pi/2\n"
          ]
        }
      ]
    },
    {
      "cell_type": "code",
      "source": [],
      "metadata": {
        "id": "_4Nmagoe8hH9"
      },
      "execution_count": null,
      "outputs": []
    }
  ]
}